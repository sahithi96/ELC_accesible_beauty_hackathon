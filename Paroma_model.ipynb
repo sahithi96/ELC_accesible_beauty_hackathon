{
 "cells": [
  {
   "cell_type": "code",
   "execution_count": 1,
   "id": "4bb6b1f1",
   "metadata": {},
   "outputs": [],
   "source": [
    "import numpy as np\n",
    "import pylab as pl\n",
    "import pandas as pd\n",
    "import matplotlib.pyplot as plt \n",
    "%matplotlib inline\n",
    "import seaborn as sns\n",
    "from sklearn.utils import shuffle\n",
    "from sklearn.svm import SVC\n",
    "from sklearn.metrics import confusion_matrix,classification_report\n",
    "from sklearn.model_selection import cross_val_score, GridSearchCV\n",
    "from sklearn.model_selection import RandomizedSearchCV\n",
    "from sklearn.ensemble import RandomForestRegressor"
   ]
  },
  {
   "cell_type": "code",
   "execution_count": 2,
   "id": "e222016c",
   "metadata": {},
   "outputs": [],
   "source": [
    "data = pd.read_csv('Paroma_data.csv')"
   ]
  },
  {
   "cell_type": "code",
   "execution_count": 3,
   "id": "5d8d3d49",
   "metadata": {},
   "outputs": [],
   "source": [
    "target_columns=['Amber Mystique', 'SpellBound', 'Cinnabar', 'Tender Light',\n",
    "       'Desert Eden', 'Infinite Sky', 'Sensuous Stars', 'Paradise Moon',\n",
    "       'Radiant Mirage', 'Dream Dusk', 'Blushing Sands', 'Beautiful Magnolia',\n",
    "       'Modern Muse', 'Beautiful Belle', 'Beautiful',\n",
    "       'Estée Lauder Pleasures']\n",
    "x=data.drop(columns=target_columns)\n",
    "y=data[target_columns]\n",
    "\n",
    "train = data.iloc[:3000]\n",
    "test = data.iloc[3000:]\n",
    "\n",
    "xtrain=x.iloc[:3000]\n",
    "ytrain=y.iloc[:3000]\n",
    "\n",
    "xtest=x.iloc[3000:]\n",
    "ytest=y.iloc[3000:]"
   ]
  },
  {
   "cell_type": "code",
   "execution_count": 4,
   "id": "e5c7cfbe",
   "metadata": {},
   "outputs": [
    {
     "data": {
      "text/plain": [
       "Index(['longevity', 'Ihaveit', 'Ihadit', 'Iwantit', 'winter', 'spring',\n",
       "       'summer', 'autumn', 'morning', 'night', 'female25under', 'male25under',\n",
       "       'female25older', 'male25older', 'sillage', 'Anxiety', 'Bad health',\n",
       "       'Bad sleep', 'Black', 'Combination', 'Floral', 'Green', 'Lavender',\n",
       "       'Spicey', 'Woody', 'Work pressure', 'calm', 'carefree', 'cheerful',\n",
       "       'confident', 'energized', 'feminine', 'happiness', 'happy',\n",
       "       'irreverent', 'joy', 'memorable', 'optimistic', 'peach', 'positive',\n",
       "       'positivity', 'relaxation', 'romantic', 'sensual', 'sensuousness',\n",
       "       'sheer', 'shimmering', 'spirited', 'uplifting'],\n",
       "      dtype='object')"
      ]
     },
     "execution_count": 4,
     "metadata": {},
     "output_type": "execute_result"
    }
   ],
   "source": [
    "xtrain.columns"
   ]
  },
  {
   "cell_type": "code",
   "execution_count": 5,
   "id": "8f5f2622",
   "metadata": {},
   "outputs": [],
   "source": [
    "import numpy as np\n",
    "import pandas as pd\n",
    "from xgboost.sklearn import XGBClassifier\n",
    "from sklearn.metrics import confusion_matrix\n",
    "\n",
    "clf = XGBClassifier()\n",
    "\n",
    "model=clf.fit(xtrain, ytrain)"
   ]
  },
  {
   "cell_type": "code",
   "execution_count": 6,
   "id": "60af5e1f",
   "metadata": {},
   "outputs": [],
   "source": [
    "import pickle\n",
    "filename = 'global.pkl'\n",
    "pickle.dump(model, open(filename, 'wb'))\n",
    "\n",
    "# # to load the saved model\n",
    "# bst = pickle.load(open(filename, 'rb'))"
   ]
  },
  {
   "cell_type": "code",
   "execution_count": 7,
   "id": "2f6b1772",
   "metadata": {},
   "outputs": [
    {
     "name": "stdout",
     "output_type": "stream",
     "text": [
      "Paradise Moon\n",
      "Blushing Sands\n",
      "Dream Dusk\n"
     ]
    }
   ],
   "source": [
    "test_Sample=[{'longevity': 17.0,\n",
    " 'Ihaveit': 1.0,\n",
    " 'Ihadit': 0.0,\n",
    " 'Iwantit': 0.0,\n",
    " 'winter': 0.0,\n",
    " 'spring': 0.0,\n",
    " 'summer': 0.0,\n",
    " 'autumn': 1.0,\n",
    " 'morning': 0,\n",
    " 'night': 1,\n",
    " 'female25under': 0.0,\n",
    " 'male25under': 0.0,\n",
    " 'female25older': 1.0,\n",
    " 'male25older': 0.0,\n",
    " 'sillage': 5.4,\n",
    " 'Anxiety': 1.0,\n",
    " 'Bad health': 0.0,\n",
    " 'Bad sleep': 0.0,\n",
    " 'Black': 1.0,\n",
    " 'Combination': 0.0,\n",
    " 'Floral': 0.0,\n",
    " 'Green': 0.0,\n",
    " 'Lavender': 0,\n",
    " 'Spicey': 1,\n",
    " 'Woody': 0.0,\n",
    " 'Work pressure': 0.0,\n",
    " 'calm': 0.0,\n",
    " 'carefree': 0.0,\n",
    " 'cheerful': 0.0,\n",
    " 'confident': 0.0,\n",
    " 'energized': 0.0,\n",
    " 'feminine': 0.0,\n",
    " 'happiness': 0.0,\n",
    " 'happy': 0.0,\n",
    " 'irreverent': 0.0,\n",
    " 'joy': 0.0,\n",
    " 'memorable': 0.0,\n",
    " 'optimistic': 0.0,\n",
    " 'peach': 1,\n",
    " 'positive': 0.0,\n",
    " 'positivity': 0.0,\n",
    " 'relaxation': 1.0,\n",
    " 'romantic': 0.0,\n",
    " 'sensual': 0.0,\n",
    " 'sensuousness': 0.0,\n",
    " 'sheer': 0.0,\n",
    " 'shimmering': 0.0,\n",
    " 'spirited': 0.0,\n",
    " 'uplifting': 0.0}]\n",
    "test_data = pd.DataFrame.from_dict(test_Sample)\n",
    "n = 3\n",
    "probas =  clf.predict_proba(test_data)\n",
    "top_n_lables_idx = np.argsort(-probas)[:, :n]\n",
    "top_n_probs = np.round(-np.sort(-probas),3)[:, :n]\n",
    "colum_list=model.get_booster().feature_names\n",
    "for index in top_n_lables_idx[0]:\n",
    "    print(ytrain.columns[index])"
   ]
  },
  {
   "cell_type": "code",
   "execution_count": null,
   "id": "bcc5aa37",
   "metadata": {},
   "outputs": [],
   "source": []
  }
 ],
 "metadata": {
  "kernelspec": {
   "display_name": "Python 3 (ipykernel)",
   "language": "python",
   "name": "python3"
  },
  "language_info": {
   "codemirror_mode": {
    "name": "ipython",
    "version": 3
   },
   "file_extension": ".py",
   "mimetype": "text/x-python",
   "name": "python",
   "nbconvert_exporter": "python",
   "pygments_lexer": "ipython3",
   "version": "3.9.12"
  }
 },
 "nbformat": 4,
 "nbformat_minor": 5
}
